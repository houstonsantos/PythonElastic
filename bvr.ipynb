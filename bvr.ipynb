{
 "cells": [
  {
   "cell_type": "code",
   "execution_count": 47,
   "source": [
    "import requests\n",
    "import pandas as pd\n",
    "from pprint import pprint\n",
    "from elasticsearch import Elasticsearch\n",
    "from elasticsearch_dsl import Search, Q\n",
    "from elasticsearch.client import SqlClient"
   ],
   "outputs": [],
   "metadata": {}
  },
  {
   "cell_type": "code",
   "execution_count": 48,
   "source": [
    "# Conetando ao cluster elasticsearch\n",
    "es = Elasticsearch(\n",
    "    hosts = 'https://2104404ec1fd435985962613aff7b743.vectracs.com.br:9243/',\n",
    "    api_key = ('OVgNEnsBkuTGP59jp4w3', 'dGx6jwAmR0WUf-9piCmj1A')\n",
    ")"
   ],
   "outputs": [],
   "metadata": {}
  },
  {
   "cell_type": "code",
   "execution_count": 41,
   "source": [
    "# Usando sintaxe SQL\n",
    "query = \"\"\" SELECT transaction.duration.us FROM \"apm-*\" WHERE transaction.duration.us = '2305524' \"\"\"\n",
    "res = SqlClient(es).query(body = {'query': query})   \n",
    "#res = es.sql.query(body = {'query': query})\n",
    "res['rows']"
   ],
   "outputs": [
    {
     "output_type": "execute_result",
     "data": {
      "text/plain": [
       "[[2305524]]"
      ]
     },
     "metadata": {},
     "execution_count": 41
    }
   ],
   "metadata": {}
  },
  {
   "cell_type": "code",
   "execution_count": 42,
   "source": [
    "res"
   ],
   "outputs": [
    {
     "output_type": "execute_result",
     "data": {
      "text/plain": [
       "{'columns': [{'name': 'transaction.duration.us', 'type': 'long'}],\n",
       " 'rows': [[2305524]]}"
      ]
     },
     "metadata": {},
     "execution_count": 42
    }
   ],
   "metadata": {}
  },
  {
   "cell_type": "code",
   "execution_count": null,
   "source": [
    "# Usando sintaxe SQL\n",
    "query = \"\"\" SELECT * FROM \"apm-*\" WHERE transaction.duration.us = '2305524' \"\"\"\n",
    "res = SqlClient(es).query(body = {'query': query})   \n",
    "#res = es.sql.query(body = {'query': query})\n",
    "res['rows']"
   ],
   "outputs": [],
   "metadata": {}
  },
  {
   "cell_type": "code",
   "execution_count": 59,
   "source": [
    "# Usando sintaxe SQL\n",
    "query = \"\"\" SELECT TOP 5 transaction.duration.us FROM \"apm-*\" \"\"\"\n",
    "res = SqlClient(es).query(body = {'query': query})   \n",
    "#res = es.sql.query(body = {'query': query})\n",
    "res['rows']"
   ],
   "outputs": [
    {
     "output_type": "execute_result",
     "data": {
      "text/plain": [
       "[[None], [None], [None], [None], [2305524]]"
      ]
     },
     "metadata": {},
     "execution_count": 59
    }
   ],
   "metadata": {}
  },
  {
   "cell_type": "code",
   "execution_count": 58,
   "source": [
    "q = 'transaction.duration.us:*'\n",
    "res = es.search(index = 'apm-*', q = q, size = 1)\n",
    "pprint(res)"
   ],
   "outputs": [
    {
     "output_type": "stream",
     "name": "stdout",
     "text": [
      "{'_shards': {'failed': 0, 'skipped': 0, 'successful': 18, 'total': 18},\n",
      " 'hits': {'hits': [{'_id': 'Niqc7noBrQmzNCT2RFmL',\n",
      "                    '_index': 'apm-7.13.0-transaction-000001',\n",
      "                    '_score': 1.0,\n",
      "                    '_source': {'@timestamp': '2021-07-28T19:34:02.606Z',\n",
      "                                'agent': {'name': 'dotnet',\n",
      "                                          'version': '1.11.0+a4eb5008af64ca52fe6973c18810c0c8c7a99554'},\n",
      "                                'client': {'ip': '::1'},\n",
      "                                'ecs': {'version': '1.8.0'},\n",
      "                                'event': {'ingested': '2021-07-28T19:34:16.457892391Z',\n",
      "                                          'outcome': 'success'},\n",
      "                                'host': {'hostname': 'BVR-DES-08',\n",
      "                                         'ip': '45.235.93.34',\n",
      "                                         'name': 'BVR-DES-08'},\n",
      "                                'http': {'request': {'headers': {'Accept': ['text/html,application/xhtml+xml,application/xml;q=0.9,image/avif,image/webp,image/apng,*/*;q=0.8,application/signed-exchange;v=b3;q=0.9'],\n",
      "                                                                 'Accept-Encoding': ['gzip, '\n",
      "                                                                                     'deflate, '\n",
      "                                                                                     'br'],\n",
      "                                                                 'Accept-Language': ['pt-BR,pt;q=0.9,en-US;q=0.8,en;q=0.7'],\n",
      "                                                                 'Connection': ['close'],\n",
      "                                                                 'Cookie': ['__RequestVerificationToken=96Y-YnHY25bKSdrSpSQMoNRqj6ExRGi8WIOkNxuM5hRIo65wvv6XAPomntZfJbaBkPBiGrZXIc78QAXm3hVbUFZf3KeEqxlIPaotMWR2KCA1; '\n",
      "                                                                            'ASP.NET_SessionId=osql3wyiysxmaolll03pbisr; '\n",
      "                                                                            '.ASPXAUTH=FEED4B456E15B026E7D47CA5B2C1AB85579CD0C7E7BBE34E2978B954B2F2490D229F26F1A367418AD3923392126C8B0B65E621B288ADF5A6A0BBBFE4E4A638831E99B285061AE74DAE97DC80FD4F04E9904DF90BFAF829C131251A76A497B0E1D0EF45E3F5F215087493B652C7B78151FE48274DCC2FA3E399345D679635C18D'],\n",
      "                                                                 'Host': ['localhost:44354'],\n",
      "                                                                 'Sec-Ch-Ua': ['\"Chromium\";v=\"92\", '\n",
      "                                                                               '\" '\n",
      "                                                                               'Not '\n",
      "                                                                               'A;Brand\";v=\"99\", '\n",
      "                                                                               '\"Google '\n",
      "                                                                               'Chrome\";v=\"92\"'],\n",
      "                                                                 'Sec-Ch-Ua-Mobile': ['?0'],\n",
      "                                                                 'Sec-Fetch-Dest': ['document'],\n",
      "                                                                 'Sec-Fetch-Mode': ['navigate'],\n",
      "                                                                 'Sec-Fetch-Site': ['none'],\n",
      "                                                                 'Sec-Fetch-User': ['?1'],\n",
      "                                                                 'Upgrade-Insecure-Requests': ['1'],\n",
      "                                                                 'User-Agent': ['Mozilla/5.0 '\n",
      "                                                                                '(Windows '\n",
      "                                                                                'NT '\n",
      "                                                                                '10.0; '\n",
      "                                                                                'Win64; '\n",
      "                                                                                'x64) '\n",
      "                                                                                'AppleWebKit/537.36 '\n",
      "                                                                                '(KHTML, '\n",
      "                                                                                'like '\n",
      "                                                                                'Gecko) '\n",
      "                                                                                'Chrome/92.0.4515.107 '\n",
      "                                                                                'Safari/537.36']},\n",
      "                                                     'method': 'GET',\n",
      "                                                     'socket': {'encrypted': True,\n",
      "                                                                'remote_address': '::1'}},\n",
      "                                         'response': {'finished': True,\n",
      "                                                      'headers': {'Cache-Control': ['private'],\n",
      "                                                                  'Content-Type': ['text/html; '\n",
      "                                                                                   'charset=utf-8'],\n",
      "                                                                  'Server': ['Microsoft-IIS/10.0'],\n",
      "                                                                  'X-Aspnet-Version': ['4.0.30319'],\n",
      "                                                                  'X-Aspnetmvc-Version': ['5.2']},\n",
      "                                                      'status_code': 200},\n",
      "                                         'version': '1.1'},\n",
      "                                'labels': {'foo': 'bar'},\n",
      "                                'observer': {'ephemeral_id': '91d862e0-a4a8-49ee-962e-dad8aef2081e',\n",
      "                                             'hostname': 'de7921b43433',\n",
      "                                             'id': '2807e39d-ff48-4d74-9461-3a1981077e16',\n",
      "                                             'name': 'instance-0000000000',\n",
      "                                             'type': 'apm-server',\n",
      "                                             'version': '7.13.0',\n",
      "                                             'version_major': 7},\n",
      "                                'processor': {'event': 'transaction',\n",
      "                                              'name': 'transaction'},\n",
      "                                'service': {'environment': 'homologacao',\n",
      "                                            'framework': {'name': 'ASP.NET',\n",
      "                                                          'version': '4.8.4330.0'},\n",
      "                                            'language': {'name': 'C#'},\n",
      "                                            'name': 'Vectra Elastic MVC _ '\n",
      "                                                    'Teste',\n",
      "                                            'node': {'name': 'BVR-DES-08'},\n",
      "                                            'runtime': {'name': '.NET '\n",
      "                                                                'Framework',\n",
      "                                                        'version': '4.8.4341.0'}},\n",
      "                                'source': {'ip': '::1'},\n",
      "                                'timestamp': {'us': 1627500842606533},\n",
      "                                'trace': {'id': '6dabefceefc7f84e9579dd2b4b732c05'},\n",
      "                                'transaction': {'duration': {'us': 2305524},\n",
      "                                                'id': '9dbbba52e9e5e8df',\n",
      "                                                'name': 'GET Home/Index',\n",
      "                                                'result': 'HTTP 2xx',\n",
      "                                                'sampled': True,\n",
      "                                                'span_count': {'dropped': 0,\n",
      "                                                               'started': 0},\n",
      "                                                'type': 'request'},\n",
      "                                'url': {'domain': 'localhost',\n",
      "                                        'full': 'https://localhost:44354/',\n",
      "                                        'original': 'https://localhost:44354/',\n",
      "                                        'path': '/',\n",
      "                                        'scheme': 'HTTP'},\n",
      "                                'user_agent': {'device': {'name': 'Other'},\n",
      "                                               'name': 'Chrome',\n",
      "                                               'original': 'Mozilla/5.0 '\n",
      "                                                           '(Windows NT 10.0; '\n",
      "                                                           'Win64; x64) '\n",
      "                                                           'AppleWebKit/537.36 '\n",
      "                                                           '(KHTML, like '\n",
      "                                                           'Gecko) '\n",
      "                                                           'Chrome/92.0.4515.107 '\n",
      "                                                           'Safari/537.36',\n",
      "                                               'os': {'full': 'Windows 10',\n",
      "                                                      'name': 'Windows',\n",
      "                                                      'version': '10'},\n",
      "                                               'version': '92.0.4515.107'}},\n",
      "                    '_type': '_doc'}],\n",
      "          'max_score': 1.0,\n",
      "          'total': {'relation': 'gte', 'value': 10000}},\n",
      " 'timed_out': False,\n",
      " 'took': 5}\n"
     ]
    }
   ],
   "metadata": {}
  }
 ],
 "metadata": {
  "orig_nbformat": 4,
  "language_info": {
   "name": "python",
   "version": "3.9.6",
   "mimetype": "text/x-python",
   "codemirror_mode": {
    "name": "ipython",
    "version": 3
   },
   "pygments_lexer": "ipython3",
   "nbconvert_exporter": "python",
   "file_extension": ".py"
  },
  "kernelspec": {
   "name": "python3",
   "display_name": "Python 3.9.6 64-bit ('venv': venv)"
  },
  "interpreter": {
   "hash": "fad09026a6c7359b72bc3e9df046d5b9566d50b2523a4e1cb9f5377eb611deae"
  }
 },
 "nbformat": 4,
 "nbformat_minor": 2
}