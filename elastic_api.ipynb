{
 "metadata": {
  "language_info": {
   "codemirror_mode": {
    "name": "ipython",
    "version": 3
   },
   "file_extension": ".py",
   "mimetype": "text/x-python",
   "name": "python",
   "nbconvert_exporter": "python",
   "pygments_lexer": "ipython3",
   "version": "3.9.6"
  },
  "orig_nbformat": 4,
  "kernelspec": {
   "name": "python3",
   "display_name": "Python 3.9.6 64-bit ('venv': venv)"
  },
  "interpreter": {
   "hash": "fad09026a6c7359b72bc3e9df046d5b9566d50b2523a4e1cb9f5377eb611deae"
  }
 },
 "nbformat": 4,
 "nbformat_minor": 2,
 "cells": [
  {
   "cell_type": "code",
   "execution_count": 2,
   "source": [
    "#import eland as ed\n",
    "import requests\n",
    "import pandas as pd\n",
    "from pprint import pprint\n",
    "from elasticsearch import Elasticsearch\n",
    "from elasticsearch_dsl import Search, Q\n",
    "from elasticsearch.client import SqlClient"
   ],
   "outputs": [],
   "metadata": {}
  },
  {
   "cell_type": "markdown",
   "source": [
    "# Testando API's elasticserach\r\n",
    "## Conexão com cluster"
   ],
   "metadata": {}
  },
  {
   "cell_type": "code",
   "execution_count": null,
   "source": [
    "# curl -H \"Authorization: ApiKey wrJ3OeMBSf6qhpc1aVHdqQ\" https://faaa243eb75a4fc188857a42510fbae6.vectracs.com.br:9243/_cluster/health\\?pretty"
   ],
   "outputs": [],
   "metadata": {}
  },
  {
   "cell_type": "code",
   "execution_count": 3,
   "source": [
    "# Conetando ao cluster elasticsearch\n",
    "es = Elasticsearch(\n",
    "    hosts = 'https://faaa243eb75a4fc188857a42510fbae6.vectracs.com.br:9243/',\n",
    "    api_key = ('vhOG-HoBNHcdUFNsTjHD', 'wrJ3OeMBSf6qhpc1aVHdqQ')\n",
    ")"
   ],
   "outputs": [],
   "metadata": {}
  },
  {
   "cell_type": "code",
   "execution_count": 4,
   "source": [
    "# Informações do cluster elasticsearch\n",
    "es.info()"
   ],
   "outputs": [
    {
     "output_type": "execute_result",
     "data": {
      "text/plain": [
       "{'name': 'instance-0000000000',\n",
       " 'cluster_name': 'faaa243eb75a4fc188857a42510fbae6',\n",
       " 'cluster_uuid': 'Xyh-HawmTh6RJvDFMQ7RPw',\n",
       " 'version': {'number': '7.13.4',\n",
       "  'build_flavor': 'default',\n",
       "  'build_type': 'docker',\n",
       "  'build_hash': 'c5f60e894ca0c61cdbae4f5a686d9f08bcefc942',\n",
       "  'build_date': '2021-07-14T18:33:36.673943207Z',\n",
       "  'build_snapshot': False,\n",
       "  'lucene_version': '8.8.2',\n",
       "  'minimum_wire_compatibility_version': '6.8.0',\n",
       "  'minimum_index_compatibility_version': '6.0.0-beta1'},\n",
       " 'tagline': 'You Know, for Search'}"
      ]
     },
     "metadata": {},
     "execution_count": 4
    }
   ],
   "metadata": {}
  },
  {
   "cell_type": "code",
   "execution_count": null,
   "source": [
    "# Verificando indices no cluster elasticsearch\n",
    "for index in sorted(es.indices.get_alias('*').keys()):\n",
    "    print(index)"
   ],
   "outputs": [],
   "metadata": {}
  },
  {
   "cell_type": "code",
   "execution_count": null,
   "source": [
    "# Pegar dados de um registro\n",
    "res = es.get(index = 'apm-7.13.4-metric-000001', id = 'mDbtDHsBn1jYROUzuXNM')\n",
    "pprint(res['_source'])"
   ],
   "outputs": [],
   "metadata": {}
  },
  {
   "cell_type": "markdown",
   "source": [
    "## Criação de Index e input de Dados"
   ],
   "metadata": {}
  },
  {
   "cell_type": "code",
   "execution_count": 16,
   "source": [
    "# Criando JSON para input\n",
    "data = [{\"balance\": \"$2,410.62\", \"age\": 40, \"name\": \"Bettie Buckner\", \"gender\": \"female\", \"company\": \"RODEOMAD\",\n",
    "         \"email\": \"bettiebuckner@rodeomad.com\", \"phone\": \"+1 (857) 491-2461\"},\n",
    "        {\"balance\": \"$1,143.56\", \"age\": 28, \"name\": \"Hanson Gates\", \"gender\": \"male\", \"company\": \"PEARLESSA\",\n",
    "         \"email\": \"hansongates@pearlessa.com\", \"phone\": \"+1 (825) 524-3896\"},\n",
    "        {\"balance\": \"$2,542.95\", \"age\": 20, \"name\": \"Audra Marshall\", \"gender\": \"female\", \"company\": \"COMTRAIL\",\n",
    "         \"email\": \"audramarshall@comtrail.com\", \"phone\": \"+1 (920) 569-2780\"},\n",
    "        {\"balance\": \"$2,235.86\", \"age\": 34, \"name\": \"Milagros Conrad\", \"gender\": \"female\", \"company\": \"IDEGO\",\n",
    "         \"email\": \"milagrosconrad@idego.com\", \"phone\": \"+1 (823) 451-2064\"},\n",
    "        {\"balance\": \"$2,606.95\", \"age\": 34, \"name\": \"Maureen Lopez\", \"gender\": \"female\", \"company\": \"EVENTEX\",\n",
    "         \"email\": \"maureenlopez@eventex.com\", \"phone\": \"+1 (913) 425-3716\"}]\n",
    "\n",
    "# Realizando a criação do index e input dos dados\n",
    "for a_data in data:\n",
    "    res = es.index(index = 'my-index', body = a_data)\n",
    "    print(res)"
   ],
   "outputs": [
    {
     "output_type": "stream",
     "name": "stdout",
     "text": [
      "{'_index': 'my-index', '_type': '_doc', '_id': 'Zv1UCHsBn1jYROUzIXKo', '_version': 1, 'result': 'created', '_shards': {'total': 2, 'successful': 1, 'failed': 0}, '_seq_no': 0, '_primary_term': 1}\n",
      "{'_index': 'my-index', '_type': '_doc', '_id': 'Z_1UCHsBn1jYROUzInJ1', '_version': 1, 'result': 'created', '_shards': {'total': 2, 'successful': 1, 'failed': 0}, '_seq_no': 1, '_primary_term': 1}\n",
      "{'_index': 'my-index', '_type': '_doc', '_id': 'aP1UCHsBn1jYROUzInLn', '_version': 1, 'result': 'created', '_shards': {'total': 2, 'successful': 1, 'failed': 0}, '_seq_no': 2, '_primary_term': 1}\n",
      "{'_index': 'my-index', '_type': '_doc', '_id': 'af1UCHsBn1jYROUzI3JW', '_version': 1, 'result': 'created', '_shards': {'total': 2, 'successful': 1, 'failed': 0}, '_seq_no': 3, '_primary_term': 1}\n",
      "{'_index': 'my-index', '_type': '_doc', '_id': 'av1UCHsBn1jYROUzI3LI', '_version': 1, 'result': 'created', '_shards': {'total': 2, 'successful': 1, 'failed': 0}, '_seq_no': 4, '_primary_term': 1}\n"
     ]
    }
   ],
   "metadata": {}
  },
  {
   "cell_type": "markdown",
   "source": [
    "## Consutas ao elasticsearch\r\n",
    "### Usando API elasticsearch"
   ],
   "metadata": {}
  },
  {
   "cell_type": "code",
   "execution_count": 6,
   "source": [
    "# Usando uma consulta DSL\n",
    "body = {'query': {'bool': {'must': [{'match': {'gender': 'male'}}, {'range': {'age': {'gte': 25}}}]}}}\n",
    "res = es.search(index = 'my-index', body = body)\n",
    "pprint(res)"
   ],
   "outputs": [
    {
     "output_type": "stream",
     "name": "stdout",
     "text": [
      "{'_shards': {'failed': 0, 'skipped': 0, 'successful': 1, 'total': 1},\n",
      " 'hits': {'hits': [{'_id': 'Z_1UCHsBn1jYROUzInJ1',\n",
      "                    '_index': 'my-index',\n",
      "                    '_score': 2.3862944,\n",
      "                    '_source': {'age': 28,\n",
      "                                'balance': '$1,143.56',\n",
      "                                'company': 'PEARLESSA',\n",
      "                                'email': 'hansongates@pearlessa.com',\n",
      "                                'gender': 'male',\n",
      "                                'name': 'Hanson Gates',\n",
      "                                'phone': '+1 (825) 524-3896'},\n",
      "                    '_type': '_doc'}],\n",
      "          'max_score': 2.3862944,\n",
      "          'total': {'relation': 'eq', 'value': 1}},\n",
      " 'timed_out': False,\n",
      " 'took': 0}\n"
     ]
    }
   ],
   "metadata": {}
  },
  {
   "cell_type": "code",
   "execution_count": 7,
   "source": [
    "# Usando uma consulta Lucene\n",
    "q = 'gender:female'\n",
    "res = es.search(index = 'my-index', q = q, size = 2)\n",
    "pprint(res)"
   ],
   "outputs": [
    {
     "output_type": "stream",
     "name": "stdout",
     "text": [
      "{'_shards': {'failed': 0, 'skipped': 0, 'successful': 1, 'total': 1},\n",
      " 'hits': {'hits': [{'_id': 'Zv1UCHsBn1jYROUzIXKo',\n",
      "                    '_index': 'my-index',\n",
      "                    '_score': 0.2876821,\n",
      "                    '_source': {'age': 40,\n",
      "                                'balance': '$2,410.62',\n",
      "                                'company': 'RODEOMAD',\n",
      "                                'email': 'bettiebuckner@rodeomad.com',\n",
      "                                'gender': 'female',\n",
      "                                'name': 'Bettie Buckner',\n",
      "                                'phone': '+1 (857) 491-2461'},\n",
      "                    '_type': '_doc'},\n",
      "                   {'_id': 'aP1UCHsBn1jYROUzInLn',\n",
      "                    '_index': 'my-index',\n",
      "                    '_score': 0.2876821,\n",
      "                    '_source': {'age': 20,\n",
      "                                'balance': '$2,542.95',\n",
      "                                'company': 'COMTRAIL',\n",
      "                                'email': 'audramarshall@comtrail.com',\n",
      "                                'gender': 'female',\n",
      "                                'name': 'Audra Marshall',\n",
      "                                'phone': '+1 (920) 569-2780'},\n",
      "                    '_type': '_doc'}],\n",
      "          'max_score': 0.2876821,\n",
      "          'total': {'relation': 'eq', 'value': 4}},\n",
      " 'timed_out': False,\n",
      " 'took': 0}\n"
     ]
    }
   ],
   "metadata": {}
  },
  {
   "cell_type": "code",
   "execution_count": 8,
   "source": [
    "# Usando sintaxe SQL\r\n",
    "query = \"\"\" SELECT * FROM \"my-index\" \"\"\"\r\n",
    "res = SqlClient(es).query(body = {'query': query})   \r\n",
    "#res = es.sql.query(body = {'query': query})\r\n",
    "res['rows']\r\n"
   ],
   "outputs": [
    {
     "output_type": "execute_result",
     "data": {
      "text/plain": [
       "[[40,\n",
       "  '$2,410.62',\n",
       "  'RODEOMAD',\n",
       "  'bettiebuckner@rodeomad.com',\n",
       "  'female',\n",
       "  'Bettie Buckner',\n",
       "  '+1 (857) 491-2461'],\n",
       " [28,\n",
       "  '$1,143.56',\n",
       "  'PEARLESSA',\n",
       "  'hansongates@pearlessa.com',\n",
       "  'male',\n",
       "  'Hanson Gates',\n",
       "  '+1 (825) 524-3896'],\n",
       " [20,\n",
       "  '$2,542.95',\n",
       "  'COMTRAIL',\n",
       "  'audramarshall@comtrail.com',\n",
       "  'female',\n",
       "  'Audra Marshall',\n",
       "  '+1 (920) 569-2780'],\n",
       " [34,\n",
       "  '$2,235.86',\n",
       "  'IDEGO',\n",
       "  'milagrosconrad@idego.com',\n",
       "  'female',\n",
       "  'Milagros Conrad',\n",
       "  '+1 (823) 451-2064'],\n",
       " [34,\n",
       "  '$2,606.95',\n",
       "  'EVENTEX',\n",
       "  'maureenlopez@eventex.com',\n",
       "  'female',\n",
       "  'Maureen Lopez',\n",
       "  '+1 (913) 425-3716']]"
      ]
     },
     "metadata": {},
     "execution_count": 8
    }
   ],
   "metadata": {}
  },
  {
   "cell_type": "code",
   "execution_count": 19,
   "source": [
    "# Transformando consulta em dataframe\r\n",
    "columns = ['age', 'balance', 'company', 'email', 'gender', 'name', 'phone']\r\n",
    "df_ecommerce2 = pd.DataFrame.from_records(data = res['rows'], columns = columns )\r\n",
    "df_ecommerce2"
   ],
   "outputs": [
    {
     "output_type": "execute_result",
     "data": {
      "text/plain": [
       "   age    balance    company                       email  gender  \\\n",
       "0   40  $2,410.62   RODEOMAD  bettiebuckner@rodeomad.com  female   \n",
       "1   28  $1,143.56  PEARLESSA   hansongates@pearlessa.com    male   \n",
       "2   20  $2,542.95   COMTRAIL  audramarshall@comtrail.com  female   \n",
       "3   34  $2,235.86      IDEGO    milagrosconrad@idego.com  female   \n",
       "4   34  $2,606.95    EVENTEX    maureenlopez@eventex.com  female   \n",
       "\n",
       "              name              phone  \n",
       "0   Bettie Buckner  +1 (857) 491-2461  \n",
       "1     Hanson Gates  +1 (825) 524-3896  \n",
       "2   Audra Marshall  +1 (920) 569-2780  \n",
       "3  Milagros Conrad  +1 (823) 451-2064  \n",
       "4    Maureen Lopez  +1 (913) 425-3716  "
      ],
      "text/html": [
       "<div>\n",
       "<style scoped>\n",
       "    .dataframe tbody tr th:only-of-type {\n",
       "        vertical-align: middle;\n",
       "    }\n",
       "\n",
       "    .dataframe tbody tr th {\n",
       "        vertical-align: top;\n",
       "    }\n",
       "\n",
       "    .dataframe thead th {\n",
       "        text-align: right;\n",
       "    }\n",
       "</style>\n",
       "<table border=\"1\" class=\"dataframe\">\n",
       "  <thead>\n",
       "    <tr style=\"text-align: right;\">\n",
       "      <th></th>\n",
       "      <th>age</th>\n",
       "      <th>balance</th>\n",
       "      <th>company</th>\n",
       "      <th>email</th>\n",
       "      <th>gender</th>\n",
       "      <th>name</th>\n",
       "      <th>phone</th>\n",
       "    </tr>\n",
       "  </thead>\n",
       "  <tbody>\n",
       "    <tr>\n",
       "      <th>0</th>\n",
       "      <td>40</td>\n",
       "      <td>$2,410.62</td>\n",
       "      <td>RODEOMAD</td>\n",
       "      <td>bettiebuckner@rodeomad.com</td>\n",
       "      <td>female</td>\n",
       "      <td>Bettie Buckner</td>\n",
       "      <td>+1 (857) 491-2461</td>\n",
       "    </tr>\n",
       "    <tr>\n",
       "      <th>1</th>\n",
       "      <td>28</td>\n",
       "      <td>$1,143.56</td>\n",
       "      <td>PEARLESSA</td>\n",
       "      <td>hansongates@pearlessa.com</td>\n",
       "      <td>male</td>\n",
       "      <td>Hanson Gates</td>\n",
       "      <td>+1 (825) 524-3896</td>\n",
       "    </tr>\n",
       "    <tr>\n",
       "      <th>2</th>\n",
       "      <td>20</td>\n",
       "      <td>$2,542.95</td>\n",
       "      <td>COMTRAIL</td>\n",
       "      <td>audramarshall@comtrail.com</td>\n",
       "      <td>female</td>\n",
       "      <td>Audra Marshall</td>\n",
       "      <td>+1 (920) 569-2780</td>\n",
       "    </tr>\n",
       "    <tr>\n",
       "      <th>3</th>\n",
       "      <td>34</td>\n",
       "      <td>$2,235.86</td>\n",
       "      <td>IDEGO</td>\n",
       "      <td>milagrosconrad@idego.com</td>\n",
       "      <td>female</td>\n",
       "      <td>Milagros Conrad</td>\n",
       "      <td>+1 (823) 451-2064</td>\n",
       "    </tr>\n",
       "    <tr>\n",
       "      <th>4</th>\n",
       "      <td>34</td>\n",
       "      <td>$2,606.95</td>\n",
       "      <td>EVENTEX</td>\n",
       "      <td>maureenlopez@eventex.com</td>\n",
       "      <td>female</td>\n",
       "      <td>Maureen Lopez</td>\n",
       "      <td>+1 (913) 425-3716</td>\n",
       "    </tr>\n",
       "  </tbody>\n",
       "</table>\n",
       "</div>"
      ]
     },
     "metadata": {},
     "execution_count": 19
    }
   ],
   "metadata": {}
  },
  {
   "cell_type": "code",
   "execution_count": null,
   "source": [
    "res['columns']\r\n",
    "res['columns'][0]\r\n",
    "res['columns'][0]['name']\r\n",
    "res['columns'][1]['name']"
   ],
   "outputs": [],
   "metadata": {}
  },
  {
   "cell_type": "markdown",
   "source": [
    "### Usando API elasticsearch_dsl"
   ],
   "metadata": {}
  },
  {
   "cell_type": "code",
   "execution_count": 12,
   "source": [
    "# Query a ser executada e objeto elasticsearch\r\n",
    "query = Q('match', gender = 'male') & Q('range', age = {'gte': 25})\r\n",
    "s = Search(using = es, index = 'my-index').query(query)\r\n",
    "response = s.execute()\r\n",
    "\r\n",
    "# Response da consulta\r\n",
    "for hit in response:\r\n",
    "    pprint(hit.to_dict())"
   ],
   "outputs": [
    {
     "output_type": "stream",
     "name": "stdout",
     "text": [
      "{'age': 28,\n",
      " 'balance': '$1,143.56',\n",
      " 'company': 'PEARLESSA',\n",
      " 'email': 'hansongates@pearlessa.com',\n",
      " 'gender': 'male',\n",
      " 'name': 'Hanson Gates',\n",
      " 'phone': '+1 (825) 524-3896'}\n"
     ]
    }
   ],
   "metadata": {}
  },
  {
   "cell_type": "code",
   "execution_count": 13,
   "source": [
    "# Query a ser executada e objeto elasticsearch\r\n",
    "query = Q('match', gender = 'male') & Q('range', age = {'gte': 25})\r\n",
    "s = Search(using = es, index = 'my-index').query(query)\r\n",
    "response = s.execute()\r\n",
    "\r\n",
    "# Response da consulta\r\n",
    "for hit in response:\r\n",
    "    print(hit.name)"
   ],
   "outputs": [
    {
     "output_type": "stream",
     "name": "stdout",
     "text": [
      "Hanson Gates\n"
     ]
    }
   ],
   "metadata": {}
  },
  {
   "cell_type": "code",
   "execution_count": 14,
   "source": [
    "# Transformando consulta em dataframe\r\n",
    "df_ecommerce = pd.DataFrame.from_records([hit.to_dict() for hit in s.scan()])\r\n",
    "df_ecommerce.head().style.background_gradient(cmap = 'viridis')"
   ],
   "outputs": [
    {
     "output_type": "execute_result",
     "data": {
      "text/plain": [
       "<pandas.io.formats.style.Styler at 0x1b8f4dc1f10>"
      ],
      "text/html": [
       "<style type=\"text/css\">\n",
       "#T_2a467_row0_col1 {\n",
       "  background-color: #440154;\n",
       "  color: #f1f1f1;\n",
       "}\n",
       "</style>\n",
       "<table id=\"T_2a467_\">\n",
       "  <thead>\n",
       "    <tr>\n",
       "      <th class=\"blank level0\" >&nbsp;</th>\n",
       "      <th class=\"col_heading level0 col0\" >balance</th>\n",
       "      <th class=\"col_heading level0 col1\" >age</th>\n",
       "      <th class=\"col_heading level0 col2\" >name</th>\n",
       "      <th class=\"col_heading level0 col3\" >gender</th>\n",
       "      <th class=\"col_heading level0 col4\" >company</th>\n",
       "      <th class=\"col_heading level0 col5\" >email</th>\n",
       "      <th class=\"col_heading level0 col6\" >phone</th>\n",
       "    </tr>\n",
       "  </thead>\n",
       "  <tbody>\n",
       "    <tr>\n",
       "      <th id=\"T_2a467_level0_row0\" class=\"row_heading level0 row0\" >0</th>\n",
       "      <td id=\"T_2a467_row0_col0\" class=\"data row0 col0\" >$1,143.56</td>\n",
       "      <td id=\"T_2a467_row0_col1\" class=\"data row0 col1\" >28</td>\n",
       "      <td id=\"T_2a467_row0_col2\" class=\"data row0 col2\" >Hanson Gates</td>\n",
       "      <td id=\"T_2a467_row0_col3\" class=\"data row0 col3\" >male</td>\n",
       "      <td id=\"T_2a467_row0_col4\" class=\"data row0 col4\" >PEARLESSA</td>\n",
       "      <td id=\"T_2a467_row0_col5\" class=\"data row0 col5\" >hansongates@pearlessa.com</td>\n",
       "      <td id=\"T_2a467_row0_col6\" class=\"data row0 col6\" >+1 (825) 524-3896</td>\n",
       "    </tr>\n",
       "  </tbody>\n",
       "</table>\n"
      ]
     },
     "metadata": {},
     "execution_count": 14
    }
   ],
   "metadata": {}
  },
  {
   "cell_type": "code",
   "execution_count": 15,
   "source": [
    "# Buscando todos os registros do index\r\n",
    "s = Search(using = es, index = 'my-index').query('match_all')\r\n",
    "# response = s.execute()\r\n",
    "\r\n",
    "# Transformando consulta em dataframe\r\n",
    "df_ecommerce = pd.DataFrame.from_records([hit.to_dict() for hit in s.scan()])\r\n",
    "df_ecommerce.head().style.background_gradient(cmap = 'viridis')"
   ],
   "outputs": [
    {
     "output_type": "execute_result",
     "data": {
      "text/plain": [
       "<pandas.io.formats.style.Styler at 0x1b8e4660160>"
      ],
      "text/html": [
       "<style type=\"text/css\">\n",
       "#T_0644a_row0_col1 {\n",
       "  background-color: #fde725;\n",
       "  color: #000000;\n",
       "}\n",
       "#T_0644a_row1_col1 {\n",
       "  background-color: #2a788e;\n",
       "  color: #f1f1f1;\n",
       "}\n",
       "#T_0644a_row2_col1 {\n",
       "  background-color: #440154;\n",
       "  color: #f1f1f1;\n",
       "}\n",
       "#T_0644a_row3_col1, #T_0644a_row4_col1 {\n",
       "  background-color: #44bf70;\n",
       "  color: #f1f1f1;\n",
       "}\n",
       "</style>\n",
       "<table id=\"T_0644a_\">\n",
       "  <thead>\n",
       "    <tr>\n",
       "      <th class=\"blank level0\" >&nbsp;</th>\n",
       "      <th class=\"col_heading level0 col0\" >balance</th>\n",
       "      <th class=\"col_heading level0 col1\" >age</th>\n",
       "      <th class=\"col_heading level0 col2\" >name</th>\n",
       "      <th class=\"col_heading level0 col3\" >gender</th>\n",
       "      <th class=\"col_heading level0 col4\" >company</th>\n",
       "      <th class=\"col_heading level0 col5\" >email</th>\n",
       "      <th class=\"col_heading level0 col6\" >phone</th>\n",
       "    </tr>\n",
       "  </thead>\n",
       "  <tbody>\n",
       "    <tr>\n",
       "      <th id=\"T_0644a_level0_row0\" class=\"row_heading level0 row0\" >0</th>\n",
       "      <td id=\"T_0644a_row0_col0\" class=\"data row0 col0\" >$2,410.62</td>\n",
       "      <td id=\"T_0644a_row0_col1\" class=\"data row0 col1\" >40</td>\n",
       "      <td id=\"T_0644a_row0_col2\" class=\"data row0 col2\" >Bettie Buckner</td>\n",
       "      <td id=\"T_0644a_row0_col3\" class=\"data row0 col3\" >female</td>\n",
       "      <td id=\"T_0644a_row0_col4\" class=\"data row0 col4\" >RODEOMAD</td>\n",
       "      <td id=\"T_0644a_row0_col5\" class=\"data row0 col5\" >bettiebuckner@rodeomad.com</td>\n",
       "      <td id=\"T_0644a_row0_col6\" class=\"data row0 col6\" >+1 (857) 491-2461</td>\n",
       "    </tr>\n",
       "    <tr>\n",
       "      <th id=\"T_0644a_level0_row1\" class=\"row_heading level0 row1\" >1</th>\n",
       "      <td id=\"T_0644a_row1_col0\" class=\"data row1 col0\" >$1,143.56</td>\n",
       "      <td id=\"T_0644a_row1_col1\" class=\"data row1 col1\" >28</td>\n",
       "      <td id=\"T_0644a_row1_col2\" class=\"data row1 col2\" >Hanson Gates</td>\n",
       "      <td id=\"T_0644a_row1_col3\" class=\"data row1 col3\" >male</td>\n",
       "      <td id=\"T_0644a_row1_col4\" class=\"data row1 col4\" >PEARLESSA</td>\n",
       "      <td id=\"T_0644a_row1_col5\" class=\"data row1 col5\" >hansongates@pearlessa.com</td>\n",
       "      <td id=\"T_0644a_row1_col6\" class=\"data row1 col6\" >+1 (825) 524-3896</td>\n",
       "    </tr>\n",
       "    <tr>\n",
       "      <th id=\"T_0644a_level0_row2\" class=\"row_heading level0 row2\" >2</th>\n",
       "      <td id=\"T_0644a_row2_col0\" class=\"data row2 col0\" >$2,542.95</td>\n",
       "      <td id=\"T_0644a_row2_col1\" class=\"data row2 col1\" >20</td>\n",
       "      <td id=\"T_0644a_row2_col2\" class=\"data row2 col2\" >Audra Marshall</td>\n",
       "      <td id=\"T_0644a_row2_col3\" class=\"data row2 col3\" >female</td>\n",
       "      <td id=\"T_0644a_row2_col4\" class=\"data row2 col4\" >COMTRAIL</td>\n",
       "      <td id=\"T_0644a_row2_col5\" class=\"data row2 col5\" >audramarshall@comtrail.com</td>\n",
       "      <td id=\"T_0644a_row2_col6\" class=\"data row2 col6\" >+1 (920) 569-2780</td>\n",
       "    </tr>\n",
       "    <tr>\n",
       "      <th id=\"T_0644a_level0_row3\" class=\"row_heading level0 row3\" >3</th>\n",
       "      <td id=\"T_0644a_row3_col0\" class=\"data row3 col0\" >$2,235.86</td>\n",
       "      <td id=\"T_0644a_row3_col1\" class=\"data row3 col1\" >34</td>\n",
       "      <td id=\"T_0644a_row3_col2\" class=\"data row3 col2\" >Milagros Conrad</td>\n",
       "      <td id=\"T_0644a_row3_col3\" class=\"data row3 col3\" >female</td>\n",
       "      <td id=\"T_0644a_row3_col4\" class=\"data row3 col4\" >IDEGO</td>\n",
       "      <td id=\"T_0644a_row3_col5\" class=\"data row3 col5\" >milagrosconrad@idego.com</td>\n",
       "      <td id=\"T_0644a_row3_col6\" class=\"data row3 col6\" >+1 (823) 451-2064</td>\n",
       "    </tr>\n",
       "    <tr>\n",
       "      <th id=\"T_0644a_level0_row4\" class=\"row_heading level0 row4\" >4</th>\n",
       "      <td id=\"T_0644a_row4_col0\" class=\"data row4 col0\" >$2,606.95</td>\n",
       "      <td id=\"T_0644a_row4_col1\" class=\"data row4 col1\" >34</td>\n",
       "      <td id=\"T_0644a_row4_col2\" class=\"data row4 col2\" >Maureen Lopez</td>\n",
       "      <td id=\"T_0644a_row4_col3\" class=\"data row4 col3\" >female</td>\n",
       "      <td id=\"T_0644a_row4_col4\" class=\"data row4 col4\" >EVENTEX</td>\n",
       "      <td id=\"T_0644a_row4_col5\" class=\"data row4 col5\" >maureenlopez@eventex.com</td>\n",
       "      <td id=\"T_0644a_row4_col6\" class=\"data row4 col6\" >+1 (913) 425-3716</td>\n",
       "    </tr>\n",
       "  </tbody>\n",
       "</table>\n"
      ]
     },
     "metadata": {},
     "execution_count": 15
    }
   ],
   "metadata": {}
  }
 ]
}