{
 "metadata": {
  "language_info": {
   "codemirror_mode": {
    "name": "ipython",
    "version": 3
   },
   "file_extension": ".py",
   "mimetype": "text/x-python",
   "name": "python",
   "nbconvert_exporter": "python",
   "pygments_lexer": "ipython3",
   "version": "3.9.6"
  },
  "orig_nbformat": 4,
  "kernelspec": {
   "name": "python3",
   "display_name": "Python 3.9.6 64-bit ('venv': venv)"
  },
  "interpreter": {
   "hash": "fad09026a6c7359b72bc3e9df046d5b9566d50b2523a4e1cb9f5377eb611deae"
  }
 },
 "nbformat": 4,
 "nbformat_minor": 2,
 "cells": [
  {
   "cell_type": "code",
   "execution_count": 1,
   "source": [
    "#import eland as ed\r\n",
    "import requests\r\n",
    "import pandas as pd\r\n",
    "#import elasticsearch as es\r\n",
    "from pprint import pprint\r\n",
    "from elasticsearch import Elasticsearch\r\n",
    "from elasticsearch_dsl import Search, Q"
   ],
   "outputs": [],
   "metadata": {}
  },
  {
   "cell_type": "markdown",
   "source": [
    "# Testando API elasticserach\r\n",
    "## Conexão com cluster"
   ],
   "metadata": {}
  },
  {
   "cell_type": "code",
   "execution_count": null,
   "source": [
    "# curl -H \"Authorization: ApiKey wrJ3OeMBSf6qhpc1aVHdqQ\" https://faaa243eb75a4fc188857a42510fbae6.vectracs.com.br:9243/_cluster/health\\?pretty"
   ],
   "outputs": [],
   "metadata": {}
  },
  {
   "cell_type": "code",
   "execution_count": 2,
   "source": [
    "# Conetando ao cluster elasticsearch\r\n",
    "es = Elasticsearch(\r\n",
    "    hosts = 'https://faaa243eb75a4fc188857a42510fbae6.vectracs.com.br:9243/',\r\n",
    "    api_key = ('vhOG-HoBNHcdUFNsTjHD', 'wrJ3OeMBSf6qhpc1aVHdqQ')\r\n",
    ")"
   ],
   "outputs": [],
   "metadata": {}
  },
  {
   "cell_type": "code",
   "execution_count": 3,
   "source": [
    "# Informações do cluster elasticsearch\r\n",
    "es.info()"
   ],
   "outputs": [
    {
     "output_type": "execute_result",
     "data": {
      "text/plain": [
       "{'name': 'instance-0000000000',\n",
       " 'cluster_name': 'faaa243eb75a4fc188857a42510fbae6',\n",
       " 'cluster_uuid': 'Xyh-HawmTh6RJvDFMQ7RPw',\n",
       " 'version': {'number': '7.13.4',\n",
       "  'build_flavor': 'default',\n",
       "  'build_type': 'docker',\n",
       "  'build_hash': 'c5f60e894ca0c61cdbae4f5a686d9f08bcefc942',\n",
       "  'build_date': '2021-07-14T18:33:36.673943207Z',\n",
       "  'build_snapshot': False,\n",
       "  'lucene_version': '8.8.2',\n",
       "  'minimum_wire_compatibility_version': '6.8.0',\n",
       "  'minimum_index_compatibility_version': '6.0.0-beta1'},\n",
       " 'tagline': 'You Know, for Search'}"
      ]
     },
     "metadata": {},
     "execution_count": 3
    }
   ],
   "metadata": {}
  },
  {
   "cell_type": "code",
   "execution_count": 53,
   "source": [
    "# Verificando indices no cluster elasticsearch\r\n",
    "for index in sorted(es.indices.get_alias('*').keys()):\r\n",
    "    print(index)"
   ],
   "outputs": [
    {
     "output_type": "stream",
     "name": "stdout",
     "text": [
      ".apm-agent-configuration\n",
      ".apm-custom-link\n",
      ".async-search\n",
      ".ds-.slm-history-5-2021.06.23-000001\n",
      ".ds-.slm-history-5-2021.07.23-000002\n",
      ".ds-ilm-history-5-2021.04.05-000002\n",
      ".ds-ilm-history-5-2021.05.05-000003\n",
      ".ds-ilm-history-5-2021.06.04-000004\n",
      ".ds-ilm-history-5-2021.07.04-000005\n",
      ".ds-logs-elastic_agent-default-2021.04.20-000003\n",
      ".ds-logs-elastic_agent.filebeat-default-2021.04.20-000003\n",
      ".ds-logs-endpoint.events.file-default-2021.08.02-000001\n",
      ".ds-logs-endpoint.events.library-default-2021.04.20-000003\n",
      ".ds-logs-endpoint.events.network-default-2021.04.20-000003\n",
      ".ds-logs-endpoint.events.process-default-2021.08.02-000001\n",
      ".ds-logs-endpoint.events.registry-default-2021.04.20-000003\n",
      ".ds-logs-endpoint.events.security-default-2021.08.02-000001\n",
      ".ds-logs-iis.access-default-2021.04.20-000002\n",
      ".ds-logs-iis.error-default-2021.04.20-000002\n",
      ".ds-logs-system.application-default-2021.04.20-000003\n",
      ".ds-logs-system.auth-default-2021.04.20-000003\n",
      ".ds-logs-system.security-default-2021.04.20-000003\n",
      ".ds-logs-system.syslog-default-2021.04.20-000003\n",
      ".ds-logs-system.system-default-2021.04.20-000003\n",
      ".ds-logs-windows.powershell_operational-default-2021.04.20-000003\n",
      ".ds-metrics-elastic_agent.elastic_agent-default-2021.04.20-000003\n",
      ".ds-metrics-elastic_agent.elastic_agent-default-2021.05.27-000004\n",
      ".ds-metrics-elastic_agent.endpoint_security-default-2021.04.20-000003\n",
      ".ds-metrics-elastic_agent.filebeat-default-2021.04.20-000003\n",
      ".ds-metrics-elastic_agent.metricbeat-default-2021.04.20-000003\n",
      ".ds-metrics-endpoint.metadata-default-2021.04.20-000003\n",
      ".ds-metrics-endpoint.metrics-default-2021.04.20-000003\n",
      ".ds-metrics-endpoint.policy-default-2021.04.20-000003\n",
      ".ds-metrics-iis.application_pool-default-2021.04.20-000002\n",
      ".ds-metrics-iis.webserver-default-2021.04.20-000002\n",
      ".ds-metrics-iis.website-default-2021.04.20-000002\n",
      ".ds-metrics-system.cpu-default-2021.04.20-000003\n",
      ".ds-metrics-system.diskio-default-2021.04.20-000003\n",
      ".ds-metrics-system.filesystem-default-2021.04.20-000003\n",
      ".ds-metrics-system.fsstat-default-2021.04.20-000003\n",
      ".ds-metrics-system.load-default-2021.04.20-000003\n",
      ".ds-metrics-system.memory-default-2021.04.20-000003\n",
      ".ds-metrics-system.network-default-2021.04.20-000003\n",
      ".ds-metrics-system.process-default-2021.04.20-000003\n",
      ".ds-metrics-system.process_summary-default-2021.04.20-000003\n",
      ".ds-metrics-system.socket_summary-default-2021.04.20-000003\n",
      ".ds-metrics-system.uptime-default-2021.04.20-000003\n",
      ".fleet-agents-7\n",
      ".fleet-enrollment-api-keys-7\n",
      ".fleet-policies-7\n",
      ".fleet-policies-leader-7\n",
      ".fleet-servers-7\n",
      ".items-default-000001\n",
      ".kibana-event-log-7.11.1-000002\n",
      ".kibana-event-log-7.11.1-000003\n",
      ".kibana-event-log-7.11.1-000004\n",
      ".kibana-event-log-7.11.1-000005\n",
      ".kibana-event-log-7.12.0-000002\n",
      ".kibana-event-log-7.12.0-000003\n",
      ".kibana-event-log-7.12.0-000004\n",
      ".kibana-event-log-7.12.0-000005\n",
      ".kibana-event-log-7.13.0-000001\n",
      ".kibana-event-log-7.13.0-000002\n",
      ".kibana-event-log-7.13.0-000003\n",
      ".kibana-event-log-7.13.2-000001\n",
      ".kibana-event-log-7.13.4-000001\n",
      ".kibana_1\n",
      ".kibana_2\n",
      ".kibana_7.12.0_001\n",
      ".kibana_7.13.0_001\n",
      ".kibana_7.13.2_001\n",
      ".kibana_7.13.4_001\n",
      ".kibana_security_session_1\n",
      ".kibana_task_manager_1\n",
      ".kibana_task_manager_7.12.0_001\n",
      ".kibana_task_manager_7.13.0_001\n",
      ".kibana_task_manager_7.13.2_001\n",
      ".kibana_task_manager_7.13.4_001\n",
      ".lists-default-000001\n",
      ".management-beats\n",
      ".ml-annotations-6\n",
      ".ml-anomalies-shared\n",
      ".ml-config\n",
      ".ml-notifications-000001\n",
      ".reporting-2021-06-06\n",
      ".security-7\n",
      ".security-tokens-7\n",
      ".siem-signals-default-000001\n",
      ".siem-signals-default-000002\n",
      ".siem-signals-default-000003\n",
      ".siem-signals-default-000004\n",
      ".siem-signals-default-000005\n",
      ".siem-signals-default-000006\n",
      ".siem-signals-default-000007\n",
      ".tasks\n",
      ".transform-internal-005\n",
      ".transform-internal-006\n",
      ".transform-internal-007\n",
      ".transform-notifications-000002\n",
      "anxiety\n",
      "apm-7.11.1-onboarding-2021.03.08\n",
      "apm-7.11.1-onboarding-2021.03.09\n",
      "apm-7.11.1-onboarding-2021.03.10\n",
      "apm-7.11.1-onboarding-2021.03.11\n",
      "apm-7.11.1-onboarding-2021.03.12\n",
      "apm-7.11.1-onboarding-2021.03.15\n",
      "apm-7.11.1-onboarding-2021.03.16\n",
      "apm-7.11.1-onboarding-2021.03.17\n",
      "apm-7.11.1-onboarding-2021.03.18\n",
      "apm-7.11.1-onboarding-2021.03.19\n",
      "apm-7.11.1-onboarding-2021.03.22\n",
      "apm-7.11.1-onboarding-2021.03.23\n",
      "apm-7.11.1-onboarding-2021.03.24\n",
      "apm-7.11.1-onboarding-2021.03.25\n",
      "apm-7.11.1-onboarding-2021.03.26\n",
      "apm-7.12.0-error-000004\n",
      "apm-7.12.0-metric-000004\n",
      "apm-7.12.0-onboarding-2021.03.26\n",
      "apm-7.12.0-onboarding-2021.03.29\n",
      "apm-7.12.0-onboarding-2021.03.30\n",
      "apm-7.12.0-onboarding-2021.03.31\n",
      "apm-7.12.0-onboarding-2021.04.01\n",
      "apm-7.12.0-onboarding-2021.04.02\n",
      "apm-7.12.0-onboarding-2021.04.05\n",
      "apm-7.12.0-onboarding-2021.04.06\n",
      "apm-7.12.0-onboarding-2021.04.07\n",
      "apm-7.12.0-onboarding-2021.04.08\n",
      "apm-7.12.0-onboarding-2021.04.09\n",
      "apm-7.12.0-onboarding-2021.04.12\n",
      "apm-7.12.0-onboarding-2021.04.19\n",
      "apm-7.12.0-onboarding-2021.04.22\n",
      "apm-7.12.0-onboarding-2021.04.26\n",
      "apm-7.12.0-onboarding-2021.04.29\n",
      "apm-7.12.0-onboarding-2021.05.03\n",
      "apm-7.12.0-onboarding-2021.05.10\n",
      "apm-7.12.0-onboarding-2021.05.12\n",
      "apm-7.12.0-onboarding-2021.05.20\n",
      "apm-7.12.0-profile-000004\n",
      "apm-7.12.0-span-000004\n",
      "apm-7.12.0-transaction-000004\n",
      "apm-7.13.0-error\n",
      "apm-7.13.0-metric\n",
      "apm-7.13.0-onboarding-2021.05.27\n",
      "apm-7.13.2-error-000001\n",
      "apm-7.13.2-metric-000001\n",
      "apm-7.13.2-onboarding-2021.08.02\n",
      "apm-7.13.2-profile-000001\n",
      "apm-7.13.2-span-000001\n",
      "apm-7.13.2-transaction-000001\n",
      "apm-7.13.4-error-000001\n",
      "apm-7.13.4-metric-000001\n",
      "apm-7.13.4-onboarding-2021.08.02\n",
      "apm-7.13.4-profile-000001\n",
      "apm-7.13.4-span-000001\n",
      "apm-7.13.4-transaction-000001\n",
      "auditbeat-7.7.1-2021.03.09-000001\n",
      "filebeat-7.11.2-2021.07.31-000052\n",
      "filebeat-7.11.2-2021.08.02-000053\n",
      "filebeat-7.12.0-2021.07.31-000053\n",
      "filebeat-7.12.0-2021.08.02-000054\n",
      "filebeat-7.13.0-2021.08.01-000017\n",
      "filebeat-7.9.3-2021.07.31-000054\n",
      "filebeat-7.9.3-2021.08.02-000055\n",
      "heartbeat-7.12.0-2021.04.12-000001\n",
      "heartbeat-7.12.0-2021.05.12-000002\n",
      "heartbeat-7.12.0-2021.06.11-000003\n",
      "heartbeat-7.12.0-2021.07.11-000004\n",
      "medium\n",
      "metricbeat-7.11.1\n",
      "metricbeat-7.12.0-2021.07.31-000051\n",
      "metricbeat-7.12.0-2021.08.02-000052\n",
      "metricbeat-7.13.0-2021.08.01-000017\n",
      "metrics-endpoint.metadata_current_default\n",
      "nectar-oportunidades\n",
      "new_medium\n",
      "teste-elastic\n",
      "winlogbeat-7.11.1-2021.07.31-000052\n",
      "winlogbeat-7.11.1-2021.08.02-000053\n"
     ]
    }
   ],
   "metadata": {}
  },
  {
   "cell_type": "code",
   "execution_count": 3,
   "source": [
    "# Pegar dados de um registro\r\n",
    "res = es.get(index = 'apm-7.13.2-metric-000001', id = 'q3XMB3sBXrd6sOW_w_Dp')\r\n",
    "pprint(res['_source'])"
   ],
   "outputs": [
    {
     "output_type": "stream",
     "name": "stdout",
     "text": [
      "{'@timestamp': '2021-08-02T16:57:12.781Z',\n",
      " 'agent': {'name': 'dotnet',\n",
      "           'version': '1.11.0+a4eb5008af64ca52fe6973c18810c0c8c7a99554'},\n",
      " 'ecs': {'version': '1.8.0'},\n",
      " 'event': {'ingested': '2021-08-02T16:57:45.192536520Z'},\n",
      " 'host': {'hostname': 'VCSPECONSRV0126',\n",
      "          'ip': '200.238.102.126',\n",
      "          'name': 'VCSPECONSRV0126'},\n",
      " 'metricset.name': 'span_breakdown',\n",
      " 'observer': {'ephemeral_id': '260a9f62-94fc-4c70-bfe5-069a68390601',\n",
      "              'hostname': '2985d7a71720',\n",
      "              'id': 'fff8c1a7-05a1-438b-9249-05b197ea9aea',\n",
      "              'name': 'instance-0000000004',\n",
      "              'type': 'apm-server',\n",
      "              'version': '7.13.2',\n",
      "              'version_major': 7},\n",
      " 'processor': {'event': 'metric', 'name': 'metric'},\n",
      " 'service': {'environment': 'production',\n",
      "             'framework': {'name': 'ASP.NET', 'version': '4.8.4261.0'},\n",
      "             'language': {'name': 'C#'},\n",
      "             'name': 'Vectra Integra v1',\n",
      "             'node': {'name': 'VCSPECONSRV0126'},\n",
      "             'runtime': {'name': '.NET Framework', 'version': '4.8.4261.0'}},\n",
      " 'span': {'self_time': {'count': 1, 'sum': {'us': 41016}}, 'type': 'app'},\n",
      " 'transaction': {'name': 'GET Account/Login', 'type': 'request'}}\n"
     ]
    }
   ],
   "metadata": {}
  },
  {
   "cell_type": "markdown",
   "source": [
    "## Criação de Index e input de Dados"
   ],
   "metadata": {}
  },
  {
   "cell_type": "code",
   "execution_count": 16,
   "source": [
    "# Criando JSON para input\r\n",
    "data = [{\"balance\": \"$2,410.62\", \"age\": 40, \"name\": \"Bettie Buckner\", \"gender\": \"female\", \"company\": \"RODEOMAD\",\r\n",
    "         \"email\": \"bettiebuckner@rodeomad.com\", \"phone\": \"+1 (857) 491-2461\"},\r\n",
    "        {\"balance\": \"$1,143.56\", \"age\": 28, \"name\": \"Hanson Gates\", \"gender\": \"male\", \"company\": \"PEARLESSA\",\r\n",
    "         \"email\": \"hansongates@pearlessa.com\", \"phone\": \"+1 (825) 524-3896\"},\r\n",
    "        {\"balance\": \"$2,542.95\", \"age\": 20, \"name\": \"Audra Marshall\", \"gender\": \"female\", \"company\": \"COMTRAIL\",\r\n",
    "         \"email\": \"audramarshall@comtrail.com\", \"phone\": \"+1 (920) 569-2780\"},\r\n",
    "        {\"balance\": \"$2,235.86\", \"age\": 34, \"name\": \"Milagros Conrad\", \"gender\": \"female\", \"company\": \"IDEGO\",\r\n",
    "         \"email\": \"milagrosconrad@idego.com\", \"phone\": \"+1 (823) 451-2064\"},\r\n",
    "        {\"balance\": \"$2,606.95\", \"age\": 34, \"name\": \"Maureen Lopez\", \"gender\": \"female\", \"company\": \"EVENTEX\",\r\n",
    "         \"email\": \"maureenlopez@eventex.com\", \"phone\": \"+1 (913) 425-3716\"}]\r\n",
    "\r\n",
    "\r\n",
    "# Realizando a criação do index e input dos dados\r\n",
    "for a_data in data:\r\n",
    "    res = es.index(index = 'my-index', body = a_data)\r\n",
    "    print(res)"
   ],
   "outputs": [
    {
     "output_type": "stream",
     "name": "stdout",
     "text": [
      "{'_index': 'my-index', '_type': '_doc', '_id': 'Zv1UCHsBn1jYROUzIXKo', '_version': 1, 'result': 'created', '_shards': {'total': 2, 'successful': 1, 'failed': 0}, '_seq_no': 0, '_primary_term': 1}\n",
      "{'_index': 'my-index', '_type': '_doc', '_id': 'Z_1UCHsBn1jYROUzInJ1', '_version': 1, 'result': 'created', '_shards': {'total': 2, 'successful': 1, 'failed': 0}, '_seq_no': 1, '_primary_term': 1}\n",
      "{'_index': 'my-index', '_type': '_doc', '_id': 'aP1UCHsBn1jYROUzInLn', '_version': 1, 'result': 'created', '_shards': {'total': 2, 'successful': 1, 'failed': 0}, '_seq_no': 2, '_primary_term': 1}\n",
      "{'_index': 'my-index', '_type': '_doc', '_id': 'af1UCHsBn1jYROUzI3JW', '_version': 1, 'result': 'created', '_shards': {'total': 2, 'successful': 1, 'failed': 0}, '_seq_no': 3, '_primary_term': 1}\n",
      "{'_index': 'my-index', '_type': '_doc', '_id': 'av1UCHsBn1jYROUzI3LI', '_version': 1, 'result': 'created', '_shards': {'total': 2, 'successful': 1, 'failed': 0}, '_seq_no': 4, '_primary_term': 1}\n"
     ]
    }
   ],
   "metadata": {}
  },
  {
   "cell_type": "markdown",
   "source": [
    "## Consutas ao elasticsearch\r\n",
    "### Usando elasticsearch"
   ],
   "metadata": {}
  },
  {
   "cell_type": "code",
   "execution_count": 4,
   "source": [
    "body = {'query': {'bool': {'must': [{'match': {'gender': 'male'}},{'range': {'age': {'gte': 25}}}]}}}\r\n",
    "res = es.search(index = 'my-index', body = body)\r\n",
    "pprint(res)"
   ],
   "outputs": [
    {
     "output_type": "stream",
     "name": "stdout",
     "text": [
      "{'_shards': {'failed': 0, 'skipped': 0, 'successful': 1, 'total': 1},\n",
      " 'hits': {'hits': [{'_id': 'Z_1UCHsBn1jYROUzInJ1',\n",
      "                    '_index': 'my-index',\n",
      "                    '_score': 2.3862944,\n",
      "                    '_source': {'age': 28,\n",
      "                                'balance': '$1,143.56',\n",
      "                                'company': 'PEARLESSA',\n",
      "                                'email': 'hansongates@pearlessa.com',\n",
      "                                'gender': 'male',\n",
      "                                'name': 'Hanson Gates',\n",
      "                                'phone': '+1 (825) 524-3896'},\n",
      "                    '_type': '_doc'}],\n",
      "          'max_score': 2.3862944,\n",
      "          'total': {'relation': 'eq', 'value': 1}},\n",
      " 'timed_out': False,\n",
      " 'took': 0}\n"
     ]
    }
   ],
   "metadata": {}
  },
  {
   "cell_type": "markdown",
   "source": [
    "### Usando elasticsearch_dsl"
   ],
   "metadata": {}
  },
  {
   "cell_type": "code",
   "execution_count": 17,
   "source": [
    "# Query a ser executada e objeto elasticsearch\r\n",
    "query = Q('match', gender = 'male') & Q('range', age = {'gte': 25})\r\n",
    "s = Search(using = es, index = 'my-index').query(query)\r\n",
    "response = s.execute()\r\n",
    "\r\n",
    "# Response da consulta\r\n",
    "for hit in response:\r\n",
    "    pprint(hit.to_dict())"
   ],
   "outputs": [
    {
     "output_type": "stream",
     "name": "stdout",
     "text": [
      "{'age': 28,\n",
      " 'balance': '$1,143.56',\n",
      " 'company': 'PEARLESSA',\n",
      " 'email': 'hansongates@pearlessa.com',\n",
      " 'gender': 'male',\n",
      " 'name': 'Hanson Gates',\n",
      " 'phone': '+1 (825) 524-3896'}\n"
     ]
    }
   ],
   "metadata": {}
  },
  {
   "cell_type": "code",
   "execution_count": 28,
   "source": [
    "# Query a ser executada e objeto elasticsearch\r\n",
    "query = Q('match', gender = 'male') & Q('range', age = {'gte': 25})\r\n",
    "s = Search(using = es, index = 'my-index').query(query)\r\n",
    "response = s.execute()\r\n",
    "\r\n",
    "# Response da consulta\r\n",
    "\r\n",
    "for hit in response:\r\n",
    "    print(hit.name)"
   ],
   "outputs": [
    {
     "output_type": "stream",
     "name": "stdout",
     "text": [
      "Hanson Gates\n"
     ]
    }
   ],
   "metadata": {}
  },
  {
   "cell_type": "code",
   "execution_count": 29,
   "source": [
    "df_ecommerce = pd.DataFrame.from_records([hit.to_dict() for hit in s.scan()])\r\n",
    "df_ecommerce.head().style.background_gradient(cmap = 'viridis')"
   ],
   "outputs": [
    {
     "output_type": "execute_result",
     "data": {
      "text/plain": [
       "<pandas.io.formats.style.Styler at 0x2c3a6d86ca0>"
      ],
      "text/html": [
       "<style type=\"text/css\">\n",
       "#T_fcd42_row0_col1 {\n",
       "  background-color: #440154;\n",
       "  color: #f1f1f1;\n",
       "}\n",
       "</style>\n",
       "<table id=\"T_fcd42_\">\n",
       "  <thead>\n",
       "    <tr>\n",
       "      <th class=\"blank level0\" >&nbsp;</th>\n",
       "      <th class=\"col_heading level0 col0\" >balance</th>\n",
       "      <th class=\"col_heading level0 col1\" >age</th>\n",
       "      <th class=\"col_heading level0 col2\" >name</th>\n",
       "      <th class=\"col_heading level0 col3\" >gender</th>\n",
       "      <th class=\"col_heading level0 col4\" >company</th>\n",
       "      <th class=\"col_heading level0 col5\" >email</th>\n",
       "      <th class=\"col_heading level0 col6\" >phone</th>\n",
       "    </tr>\n",
       "  </thead>\n",
       "  <tbody>\n",
       "    <tr>\n",
       "      <th id=\"T_fcd42_level0_row0\" class=\"row_heading level0 row0\" >0</th>\n",
       "      <td id=\"T_fcd42_row0_col0\" class=\"data row0 col0\" >$1,143.56</td>\n",
       "      <td id=\"T_fcd42_row0_col1\" class=\"data row0 col1\" >28</td>\n",
       "      <td id=\"T_fcd42_row0_col2\" class=\"data row0 col2\" >Hanson Gates</td>\n",
       "      <td id=\"T_fcd42_row0_col3\" class=\"data row0 col3\" >male</td>\n",
       "      <td id=\"T_fcd42_row0_col4\" class=\"data row0 col4\" >PEARLESSA</td>\n",
       "      <td id=\"T_fcd42_row0_col5\" class=\"data row0 col5\" >hansongates@pearlessa.com</td>\n",
       "      <td id=\"T_fcd42_row0_col6\" class=\"data row0 col6\" >+1 (825) 524-3896</td>\n",
       "    </tr>\n",
       "  </tbody>\n",
       "</table>\n"
      ]
     },
     "metadata": {},
     "execution_count": 29
    }
   ],
   "metadata": {}
  },
  {
   "cell_type": "code",
   "execution_count": 24,
   "source": [
    "# Buscando todos os registros do index\r\n",
    "s = Search(using = es, index = 'my-index').query('match_all')\r\n",
    "response = s.execute()\r\n",
    "\r\n",
    "df_ecommerce = pd.DataFrame.from_records([hit.to_dict() for hit in s.scan()])\r\n",
    "df_ecommerce.head().style.background_gradient(cmap = 'viridis')"
   ],
   "outputs": [
    {
     "output_type": "execute_result",
     "data": {
      "text/plain": [
       "<pandas.io.formats.style.Styler at 0x2c3a7710b20>"
      ],
      "text/html": [
       "<style type=\"text/css\">\n",
       "#T_c5de4_row0_col1 {\n",
       "  background-color: #fde725;\n",
       "  color: #000000;\n",
       "}\n",
       "#T_c5de4_row1_col1 {\n",
       "  background-color: #2a788e;\n",
       "  color: #f1f1f1;\n",
       "}\n",
       "#T_c5de4_row2_col1 {\n",
       "  background-color: #440154;\n",
       "  color: #f1f1f1;\n",
       "}\n",
       "#T_c5de4_row3_col1, #T_c5de4_row4_col1 {\n",
       "  background-color: #44bf70;\n",
       "  color: #f1f1f1;\n",
       "}\n",
       "</style>\n",
       "<table id=\"T_c5de4_\">\n",
       "  <thead>\n",
       "    <tr>\n",
       "      <th class=\"blank level0\" >&nbsp;</th>\n",
       "      <th class=\"col_heading level0 col0\" >balance</th>\n",
       "      <th class=\"col_heading level0 col1\" >age</th>\n",
       "      <th class=\"col_heading level0 col2\" >name</th>\n",
       "      <th class=\"col_heading level0 col3\" >gender</th>\n",
       "      <th class=\"col_heading level0 col4\" >company</th>\n",
       "      <th class=\"col_heading level0 col5\" >email</th>\n",
       "      <th class=\"col_heading level0 col6\" >phone</th>\n",
       "    </tr>\n",
       "  </thead>\n",
       "  <tbody>\n",
       "    <tr>\n",
       "      <th id=\"T_c5de4_level0_row0\" class=\"row_heading level0 row0\" >0</th>\n",
       "      <td id=\"T_c5de4_row0_col0\" class=\"data row0 col0\" >$2,410.62</td>\n",
       "      <td id=\"T_c5de4_row0_col1\" class=\"data row0 col1\" >40</td>\n",
       "      <td id=\"T_c5de4_row0_col2\" class=\"data row0 col2\" >Bettie Buckner</td>\n",
       "      <td id=\"T_c5de4_row0_col3\" class=\"data row0 col3\" >female</td>\n",
       "      <td id=\"T_c5de4_row0_col4\" class=\"data row0 col4\" >RODEOMAD</td>\n",
       "      <td id=\"T_c5de4_row0_col5\" class=\"data row0 col5\" >bettiebuckner@rodeomad.com</td>\n",
       "      <td id=\"T_c5de4_row0_col6\" class=\"data row0 col6\" >+1 (857) 491-2461</td>\n",
       "    </tr>\n",
       "    <tr>\n",
       "      <th id=\"T_c5de4_level0_row1\" class=\"row_heading level0 row1\" >1</th>\n",
       "      <td id=\"T_c5de4_row1_col0\" class=\"data row1 col0\" >$1,143.56</td>\n",
       "      <td id=\"T_c5de4_row1_col1\" class=\"data row1 col1\" >28</td>\n",
       "      <td id=\"T_c5de4_row1_col2\" class=\"data row1 col2\" >Hanson Gates</td>\n",
       "      <td id=\"T_c5de4_row1_col3\" class=\"data row1 col3\" >male</td>\n",
       "      <td id=\"T_c5de4_row1_col4\" class=\"data row1 col4\" >PEARLESSA</td>\n",
       "      <td id=\"T_c5de4_row1_col5\" class=\"data row1 col5\" >hansongates@pearlessa.com</td>\n",
       "      <td id=\"T_c5de4_row1_col6\" class=\"data row1 col6\" >+1 (825) 524-3896</td>\n",
       "    </tr>\n",
       "    <tr>\n",
       "      <th id=\"T_c5de4_level0_row2\" class=\"row_heading level0 row2\" >2</th>\n",
       "      <td id=\"T_c5de4_row2_col0\" class=\"data row2 col0\" >$2,542.95</td>\n",
       "      <td id=\"T_c5de4_row2_col1\" class=\"data row2 col1\" >20</td>\n",
       "      <td id=\"T_c5de4_row2_col2\" class=\"data row2 col2\" >Audra Marshall</td>\n",
       "      <td id=\"T_c5de4_row2_col3\" class=\"data row2 col3\" >female</td>\n",
       "      <td id=\"T_c5de4_row2_col4\" class=\"data row2 col4\" >COMTRAIL</td>\n",
       "      <td id=\"T_c5de4_row2_col5\" class=\"data row2 col5\" >audramarshall@comtrail.com</td>\n",
       "      <td id=\"T_c5de4_row2_col6\" class=\"data row2 col6\" >+1 (920) 569-2780</td>\n",
       "    </tr>\n",
       "    <tr>\n",
       "      <th id=\"T_c5de4_level0_row3\" class=\"row_heading level0 row3\" >3</th>\n",
       "      <td id=\"T_c5de4_row3_col0\" class=\"data row3 col0\" >$2,235.86</td>\n",
       "      <td id=\"T_c5de4_row3_col1\" class=\"data row3 col1\" >34</td>\n",
       "      <td id=\"T_c5de4_row3_col2\" class=\"data row3 col2\" >Milagros Conrad</td>\n",
       "      <td id=\"T_c5de4_row3_col3\" class=\"data row3 col3\" >female</td>\n",
       "      <td id=\"T_c5de4_row3_col4\" class=\"data row3 col4\" >IDEGO</td>\n",
       "      <td id=\"T_c5de4_row3_col5\" class=\"data row3 col5\" >milagrosconrad@idego.com</td>\n",
       "      <td id=\"T_c5de4_row3_col6\" class=\"data row3 col6\" >+1 (823) 451-2064</td>\n",
       "    </tr>\n",
       "    <tr>\n",
       "      <th id=\"T_c5de4_level0_row4\" class=\"row_heading level0 row4\" >4</th>\n",
       "      <td id=\"T_c5de4_row4_col0\" class=\"data row4 col0\" >$2,606.95</td>\n",
       "      <td id=\"T_c5de4_row4_col1\" class=\"data row4 col1\" >34</td>\n",
       "      <td id=\"T_c5de4_row4_col2\" class=\"data row4 col2\" >Maureen Lopez</td>\n",
       "      <td id=\"T_c5de4_row4_col3\" class=\"data row4 col3\" >female</td>\n",
       "      <td id=\"T_c5de4_row4_col4\" class=\"data row4 col4\" >EVENTEX</td>\n",
       "      <td id=\"T_c5de4_row4_col5\" class=\"data row4 col5\" >maureenlopez@eventex.com</td>\n",
       "      <td id=\"T_c5de4_row4_col6\" class=\"data row4 col6\" >+1 (913) 425-3716</td>\n",
       "    </tr>\n",
       "  </tbody>\n",
       "</table>\n"
      ]
     },
     "metadata": {},
     "execution_count": 24
    }
   ],
   "metadata": {}
  },
  {
   "cell_type": "markdown",
   "source": [
    "# XXXXXXXXXXXXXXXXXXXXXXXXXXXXXXXXXXXXXXXXXXXXX"
   ],
   "metadata": {}
  },
  {
   "cell_type": "code",
   "execution_count": 4,
   "source": [
    "s = Search(using = es, index = \"apm-7.13.2-metric-000001\")\r\n",
    "s = s.query(Q(\"match\", _id = \"Z3kGCHsBXrd6sOW_OhBQ\"))\r\n",
    "\r\n",
    "print(\"Query Elastic: \")\r\n",
    "print(s.to_dict())"
   ],
   "outputs": [
    {
     "output_type": "stream",
     "name": "stdout",
     "text": [
      "Query Elastic: \n",
      "{'query': {'match': {'_id': 'Z3kGCHsBXrd6sOW_OhBQ'}}}\n"
     ]
    }
   ],
   "metadata": {}
  },
  {
   "cell_type": "code",
   "execution_count": 5,
   "source": [
    "# Executa a query\r\n",
    "response = s.execute()\r\n",
    "\r\n",
    "for hit in s:\r\n",
    "    pprint(hit.to_dict())"
   ],
   "outputs": [
    {
     "output_type": "stream",
     "name": "stdout",
     "text": [
      "{'@timestamp': '2021-08-02T17:58:49.173Z',\n",
      " 'agent': {'name': 'dotnet',\n",
      "           'version': '1.11.0+a4eb5008af64ca52fe6973c18810c0c8c7a99554'},\n",
      " 'clr': {'gc': {'count': 38,\n",
      "                'gen0size': 2604144.0,\n",
      "                'gen1size': 74228,\n",
      "                'gen2size': 16063888.0,\n",
      "                'gen3size': 14702128.0,\n",
      "                'time': 1}},\n",
      " 'ecs': {'version': '1.8.0'},\n",
      " 'event': {'ingested': '2021-08-02T18:00:31.056853411Z'},\n",
      " 'host': {'hostname': 'VCSNTK027', 'ip': '189.39.123.194', 'name': 'VCSNTK027'},\n",
      " 'metricset.name': 'app',\n",
      " 'observer': {'ephemeral_id': '260a9f62-94fc-4c70-bfe5-069a68390601',\n",
      "              'hostname': '2985d7a71720',\n",
      "              'id': 'fff8c1a7-05a1-438b-9249-05b197ea9aea',\n",
      "              'name': 'instance-0000000004',\n",
      "              'type': 'apm-server',\n",
      "              'version': '7.13.2',\n",
      "              'version_major': 7},\n",
      " 'processor': {'event': 'metric', 'name': 'metric'},\n",
      " 'service': {'environment': 'local',\n",
      "             'framework': {'name': 'ASP.NET', 'version': '4.8.4330.0'},\n",
      "             'language': {'name': 'C#'},\n",
      "             'name': 'Vectra Integra v1',\n",
      "             'node': {'name': 'VCSNTK027'},\n",
      "             'runtime': {'name': '.NET Framework', 'version': '4.8.4300.0'}}}\n"
     ]
    }
   ],
   "metadata": {}
  },
  {
   "cell_type": "code",
   "execution_count": 7,
   "source": [
    "documents = [hit.to_dict() for hit in s.scan()]\r\n",
    "documents"
   ],
   "outputs": [
    {
     "output_type": "execute_result",
     "data": {
      "text/plain": [
       "[{'agent': {'name': 'dotnet',\n",
       "   'version': '1.11.0+a4eb5008af64ca52fe6973c18810c0c8c7a99554'},\n",
       "  'clr': {'gc': {'count': 38,\n",
       "    'gen1size': 74228,\n",
       "    'gen2size': 16063888.0,\n",
       "    'time': 1,\n",
       "    'gen0size': 2604144.0,\n",
       "    'gen3size': 14702128.0}},\n",
       "  'processor': {'name': 'metric', 'event': 'metric'},\n",
       "  'metricset.name': 'app',\n",
       "  'observer': {'hostname': '2985d7a71720',\n",
       "   'name': 'instance-0000000004',\n",
       "   'id': 'fff8c1a7-05a1-438b-9249-05b197ea9aea',\n",
       "   'type': 'apm-server',\n",
       "   'ephemeral_id': '260a9f62-94fc-4c70-bfe5-069a68390601',\n",
       "   'version': '7.13.2',\n",
       "   'version_major': 7},\n",
       "  '@timestamp': '2021-08-02T17:58:49.173Z',\n",
       "  'ecs': {'version': '1.8.0'},\n",
       "  'service': {'node': {'name': 'VCSNTK027'},\n",
       "   'environment': 'local',\n",
       "   'framework': {'name': 'ASP.NET', 'version': '4.8.4330.0'},\n",
       "   'name': 'Vectra Integra v1',\n",
       "   'runtime': {'name': '.NET Framework', 'version': '4.8.4300.0'},\n",
       "   'language': {'name': 'C#'}},\n",
       "  'host': {'hostname': 'VCSNTK027',\n",
       "   'ip': '189.39.123.194',\n",
       "   'name': 'VCSNTK027'},\n",
       "  'event': {'ingested': '2021-08-02T18:00:31.056853411Z'}}]"
      ]
     },
     "metadata": {},
     "execution_count": 7
    }
   ],
   "metadata": {}
  }
 ]
}