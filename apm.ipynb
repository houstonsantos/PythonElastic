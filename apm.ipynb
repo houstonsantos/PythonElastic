{
 "metadata": {
  "language_info": {
   "codemirror_mode": {
    "name": "ipython",
    "version": 3
   },
   "file_extension": ".py",
   "mimetype": "text/x-python",
   "name": "python",
   "nbconvert_exporter": "python",
   "pygments_lexer": "ipython3",
   "version": "3.9.6"
  },
  "orig_nbformat": 4,
  "kernelspec": {
   "name": "python3",
   "display_name": "Python 3.9.6 64-bit ('venv': venv)"
  },
  "interpreter": {
   "hash": "fad09026a6c7359b72bc3e9df046d5b9566d50b2523a4e1cb9f5377eb611deae"
  }
 },
 "nbformat": 4,
 "nbformat_minor": 2,
 "cells": [
  {
   "cell_type": "code",
   "execution_count": 79,
   "metadata": {},
   "outputs": [],
   "source": [
    "#import eland as ed\n",
    "import pandas as pd\n",
    "#import elasticsearch as es\n",
    "from pprint import pprint\n",
    "from elasticsearch import Elasticsearch\n",
    "from elasticsearch_dsl import Search, Q"
   ]
  },
  {
   "source": [
    "### API KEY\n",
    "id: vhOG-HoBNHcdUFNsTjHD\n",
    "\n",
    "api_key: wrJ3OeMBSf6qhpc1aVHdqQ"
   ],
   "cell_type": "markdown",
   "metadata": {}
  },
  {
   "cell_type": "code",
   "execution_count": 47,
   "metadata": {},
   "outputs": [],
   "source": [
    "# Conetando ao cluster elasticsearch\n",
    "es = Elasticsearch(\n",
    "    hosts = 'https://faaa243eb75a4fc188857a42510fbae6.vectracs.com.br:9243/',\n",
    "    api_key = ('vhOG-HoBNHcdUFNsTjHD', 'wrJ3OeMBSf6qhpc1aVHdqQ')\n",
    ")"
   ]
  },
  {
   "cell_type": "code",
   "execution_count": 65,
   "metadata": {},
   "outputs": [
    {
     "output_type": "execute_result",
     "data": {
      "text/plain": [
       "{'name': 'instance-0000000000',\n",
       " 'cluster_name': 'faaa243eb75a4fc188857a42510fbae6',\n",
       " 'cluster_uuid': 'Xyh-HawmTh6RJvDFMQ7RPw',\n",
       " 'version': {'number': '7.13.0',\n",
       "  'build_flavor': 'default',\n",
       "  'build_type': 'docker',\n",
       "  'build_hash': '5ca8591c6fcdb1260ce95b08a8e023559635c6f3',\n",
       "  'build_date': '2021-05-19T22:22:26.081971330Z',\n",
       "  'build_snapshot': False,\n",
       "  'lucene_version': '8.8.2',\n",
       "  'minimum_wire_compatibility_version': '6.8.0',\n",
       "  'minimum_index_compatibility_version': '6.0.0-beta1'},\n",
       " 'tagline': 'You Know, for Search'}"
      ]
     },
     "metadata": {},
     "execution_count": 65
    }
   ],
   "source": [
    "# Informações do cluster elasticsearch\n",
    "es.info()"
   ]
  },
  {
   "cell_type": "code",
   "execution_count": 64,
   "metadata": {},
   "outputs": [
    {
     "output_type": "stream",
     "name": "stdout",
     "text": [
      ".apm-agent-configuration\n.apm-custom-link\n.async-search\n.ds-.slm-history-5-2021.06.23-000001\n.ds-.slm-history-5-2021.07.23-000002\n.ds-ilm-history-5-2021.04.05-000002\n.ds-ilm-history-5-2021.05.05-000003\n.ds-ilm-history-5-2021.06.04-000004\n.ds-ilm-history-5-2021.07.04-000005\n.ds-logs-elastic_agent-default-2021.04.20-000003\n.ds-logs-elastic_agent.filebeat-default-2021.04.20-000003\n.ds-logs-endpoint.events.file-default-2021.07.30-000001\n.ds-logs-endpoint.events.library-default-2021.04.20-000003\n.ds-logs-endpoint.events.network-default-2021.04.20-000003\n.ds-logs-endpoint.events.process-default-2021.07.30-000001\n.ds-logs-endpoint.events.registry-default-2021.04.20-000003\n.ds-logs-endpoint.events.security-default-2021.07.30-000001\n.ds-logs-iis.access-default-2021.04.20-000002\n.ds-logs-iis.error-default-2021.04.20-000002\n.ds-logs-system.application-default-2021.04.20-000003\n.ds-logs-system.auth-default-2021.04.20-000003\n.ds-logs-system.security-default-2021.04.20-000003\n.ds-logs-system.syslog-default-2021.04.20-000003\n.ds-logs-system.system-default-2021.04.20-000003\n.ds-logs-windows.powershell_operational-default-2021.04.20-000003\n.ds-metrics-elastic_agent.elastic_agent-default-2021.04.20-000003\n.ds-metrics-elastic_agent.elastic_agent-default-2021.05.27-000004\n.ds-metrics-elastic_agent.endpoint_security-default-2021.04.20-000003\n.ds-metrics-elastic_agent.filebeat-default-2021.04.20-000003\n.ds-metrics-elastic_agent.metricbeat-default-2021.04.20-000003\n.ds-metrics-endpoint.metadata-default-2021.04.20-000003\n.ds-metrics-endpoint.metrics-default-2021.04.20-000003\n.ds-metrics-endpoint.policy-default-2021.04.20-000003\n.ds-metrics-iis.application_pool-default-2021.04.20-000002\n.ds-metrics-iis.webserver-default-2021.04.20-000002\n.ds-metrics-iis.website-default-2021.04.20-000002\n.ds-metrics-system.cpu-default-2021.04.20-000003\n.ds-metrics-system.diskio-default-2021.04.20-000003\n.ds-metrics-system.filesystem-default-2021.04.20-000003\n.ds-metrics-system.fsstat-default-2021.04.20-000003\n.ds-metrics-system.load-default-2021.04.20-000003\n.ds-metrics-system.memory-default-2021.04.20-000003\n.ds-metrics-system.network-default-2021.04.20-000003\n.ds-metrics-system.process-default-2021.04.20-000003\n.ds-metrics-system.process_summary-default-2021.04.20-000003\n.ds-metrics-system.socket_summary-default-2021.04.20-000003\n.ds-metrics-system.uptime-default-2021.04.20-000003\n.fleet-enrollment-api-keys-7\n.fleet-policies-7\n.items-default-000001\n.kibana-event-log-7.11.1-000002\n.kibana-event-log-7.11.1-000003\n.kibana-event-log-7.11.1-000004\n.kibana-event-log-7.11.1-000005\n.kibana-event-log-7.12.0-000002\n.kibana-event-log-7.12.0-000003\n.kibana-event-log-7.12.0-000004\n.kibana-event-log-7.12.0-000005\n.kibana-event-log-7.13.0-000001\n.kibana-event-log-7.13.0-000002\n.kibana-event-log-7.13.0-000003\n.kibana_1\n.kibana_2\n.kibana_7.12.0_001\n.kibana_7.13.0_001\n.kibana_security_session_1\n.kibana_task_manager_1\n.kibana_task_manager_7.12.0_001\n.kibana_task_manager_7.13.0_001\n.lists-default-000001\n.management-beats\n.ml-annotations-6\n.ml-anomalies-shared\n.ml-config\n.ml-notifications-000001\n.reporting-2021-06-06\n.security-7\n.security-tokens-7\n.siem-signals-default-000001\n.siem-signals-default-000002\n.siem-signals-default-000003\n.siem-signals-default-000004\n.siem-signals-default-000005\n.siem-signals-default-000006\n.siem-signals-default-000007\n.tasks\n.transform-internal-005\n.transform-internal-006\n.transform-internal-007\n.transform-notifications-000002\nanxiety\napm-7.11.1-onboarding-2021.03.08\napm-7.11.1-onboarding-2021.03.09\napm-7.11.1-onboarding-2021.03.10\napm-7.11.1-onboarding-2021.03.11\napm-7.11.1-onboarding-2021.03.12\napm-7.11.1-onboarding-2021.03.15\napm-7.11.1-onboarding-2021.03.16\napm-7.11.1-onboarding-2021.03.17\napm-7.11.1-onboarding-2021.03.18\napm-7.11.1-onboarding-2021.03.19\napm-7.11.1-onboarding-2021.03.22\napm-7.11.1-onboarding-2021.03.23\napm-7.11.1-onboarding-2021.03.24\napm-7.11.1-onboarding-2021.03.25\napm-7.11.1-onboarding-2021.03.26\napm-7.12.0-error-000004\napm-7.12.0-metric-000004\napm-7.12.0-onboarding-2021.03.26\napm-7.12.0-onboarding-2021.03.29\napm-7.12.0-onboarding-2021.03.30\napm-7.12.0-onboarding-2021.03.31\napm-7.12.0-onboarding-2021.04.01\napm-7.12.0-onboarding-2021.04.02\napm-7.12.0-onboarding-2021.04.05\napm-7.12.0-onboarding-2021.04.06\napm-7.12.0-onboarding-2021.04.07\napm-7.12.0-onboarding-2021.04.08\napm-7.12.0-onboarding-2021.04.09\napm-7.12.0-onboarding-2021.04.12\napm-7.12.0-onboarding-2021.04.19\napm-7.12.0-onboarding-2021.04.22\napm-7.12.0-onboarding-2021.04.26\napm-7.12.0-onboarding-2021.04.29\napm-7.12.0-onboarding-2021.05.03\napm-7.12.0-onboarding-2021.05.10\napm-7.12.0-onboarding-2021.05.12\napm-7.12.0-onboarding-2021.05.20\napm-7.12.0-profile-000004\napm-7.12.0-span-000004\napm-7.12.0-transaction-000004\napm-7.13.0-metric\napm-7.13.0-onboarding-2021.05.27\napm-7.13.0-span-000001\napm-7.13.0-transaction\nauditbeat-7.7.1-2021.03.09-000001\nfilebeat-7.11.2-2021.07.29-000051\nfilebeat-7.12.0-2021.07.29-000052\nfilebeat-7.13.0-2021.07.28-000015\nfilebeat-7.13.0-2021.07.30-000016\nfilebeat-7.9.3-2021.07.29-000053\nheartbeat-7.12.0-2021.04.12-000001\nheartbeat-7.12.0-2021.05.12-000002\nheartbeat-7.12.0-2021.06.11-000003\nheartbeat-7.12.0-2021.07.11-000004\nmedium\nmetricbeat-7.11.1\nmetricbeat-7.12.0-2021.07.29-000050\nmetricbeat-7.13.0-2021.07.28-000015\nmetricbeat-7.13.0-2021.07.30-000016\nmetrics-endpoint.metadata_current_default\nnectar-oportunidades\nnew_medium\nteste-elastic\nwinlogbeat-7.11.1-2021.07.29-000051\n"
     ]
    }
   ],
   "source": [
    "# Verificando indices no cluster elasticsearch\n",
    "for index in sorted(es.indices.get_alias('*').keys()):\n",
    "    print(index)"
   ]
  },
  {
   "cell_type": "code",
   "execution_count": 80,
   "metadata": {},
   "outputs": [
    {
     "output_type": "stream",
     "name": "stdout",
     "text": [
      "{'@timestamp': '2021-07-30T19:49:24.738Z',\n '_doc_count': 1,\n 'agent': {'name': 'dotnet'},\n 'ecs': {'version': '1.8.0'},\n 'event': {'ingested': '2021-07-30T19:49:25.713511177Z', 'outcome': 'success'},\n 'host': {'hostname': 'VCSPECONSRV0126', 'name': 'VCSPECONSRV0126'},\n 'metricset.name': 'transaction',\n 'observer': {'ephemeral_id': 'c89c91e6-a5f4-499a-a48f-8f69b024dcc5',\n              'hostname': '0dcfe9f3dc08',\n              'id': '4f4664ea-0bc8-4b21-bc5f-61522e72cc99',\n              'name': 'instance-0000000003',\n              'type': 'apm-server',\n              'version': '7.13.0',\n              'version_major': 7},\n 'processor': {'event': 'metric', 'name': 'metric'},\n 'service': {'environment': 'production',\n             'name': 'Vectra Integra v1',\n             'node': {'name': 'VCSPECONSRV0126'}},\n 'timeseries': {'instance': 'Vectra Integra v1:GET '\n                            'ItemPVM/ExistArquivoContactCenter:33fa88b0aaf11bc5'},\n 'transaction': {'duration': {'histogram': {'counts': [1],\n                                            'values': [2392063.0]}},\n                 'name': 'GET ItemPVM/ExistArquivoContactCenter',\n                 'result': 'HTTP 2xx',\n                 'root': True,\n                 'type': 'request'}}\n"
     ]
    }
   ],
   "source": [
    "res = es.get(index = 'apm-7.13.0-metric', id = '3Bn2-HoBNHcdUFNs3HxR')\n",
    "pprint(res['_source'])"
   ]
  },
  {
   "cell_type": "code",
   "execution_count": null,
   "metadata": {},
   "outputs": [],
   "source": []
  }
 ]
}